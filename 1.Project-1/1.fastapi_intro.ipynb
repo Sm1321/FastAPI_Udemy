{
 "cells": [
  {
   "cell_type": "code",
   "execution_count": 3,
   "id": "5ad36179",
   "metadata": {},
   "outputs": [],
   "source": [
    "import os"
   ]
  },
  {
   "cell_type": "code",
   "execution_count": 4,
   "id": "13d384f6",
   "metadata": {},
   "outputs": [],
   "source": [
    "from fastapi import FastAPI \n",
    "app = FastAPI()\n",
    "\n",
    "@app.get(\"/api_endpoint\")\n",
    "async def first_api():\n",
    "    return {'message':'hello FastAPi here'}"
   ]
  },
  {
   "cell_type": "code",
   "execution_count": null,
   "id": "2dbbc4ad",
   "metadata": {},
   "outputs": [],
   "source": []
  }
 ],
 "metadata": {
  "kernelspec": {
   "display_name": "fastapi_env",
   "language": "python",
   "name": "python3"
  },
  "language_info": {
   "codemirror_mode": {
    "name": "ipython",
    "version": 3
   },
   "file_extension": ".py",
   "mimetype": "text/x-python",
   "name": "python",
   "nbconvert_exporter": "python",
   "pygments_lexer": "ipython3",
   "version": "3.12.11"
  }
 },
 "nbformat": 4,
 "nbformat_minor": 5
}
